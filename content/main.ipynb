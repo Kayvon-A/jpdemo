{
 "cells": [
  {
   "cell_type": "code",
   "execution_count": 52,
   "metadata": {},
   "outputs": [],
   "source": [
    "import numpy as np\n",
    "import pandas as pd\n",
    "import copy\n",
    "import matplotlib.pyplot as plt"
   ]
  },
  {
   "cell_type": "code",
   "execution_count": 53,
   "metadata": {},
   "outputs": [],
   "source": [
    "data = pd.read_csv(\"Arranged Data.csv\")\n",
    "Z = data.pop(\"Z\")\n",
    "A = data.pop(\"A\")\n",
    "y = data.pop(\"Binding\")\n",
    "BE_A = data.pop(\"BE/A\")"
   ]
  },
  {
   "cell_type": "code",
   "execution_count": 54,
   "metadata": {},
   "outputs": [],
   "source": [
    "w_init = np.array((1,1,1,1,1))\n",
    "train_Z = np.array(Z[0:2680])\n",
    "train_A = np.array(A[0:2680])\n",
    "train_y = np.array(y[0:2680])\n"
   ]
  },
  {
   "cell_type": "code",
   "execution_count": 55,
   "metadata": {},
   "outputs": [
    {
     "data": {
      "image/png": "[encoded data removed]",
      "text/plain": [
       "<Figure size 640x480 with 1 Axes>"
      ]
     },
     "metadata": {},
     "output_type": "display_data"
    }
   ],
   "source": [
    "plt.scatter(A, BE_A, color=\"red\")\n",
    "plt.show()"
   ]
  },
  {
   "cell_type": "code",
   "execution_count": 56,
   "metadata": {},
   "outputs": [
    {
     "name": "stdout",
     "output_type": "stream",
     "text": [
      "1 1 0.0\n",
      "\n",
      "\n",
      "207 90 0.207\n",
      "\n",
      "\n",
      "2 1 2.2245662\n",
      "\n",
      "\n"
     ]
    }
   ],
   "source": [
    "for i in range(3):\n",
    "    print(train_A[i], train_Z[i], train_y[i])\n",
    "    print(\"\\n\")"
   ]
  },
  {
   "cell_type": "code",
   "execution_count": 57,
   "metadata": {},
   "outputs": [
    {
     "data": {
      "text/plain": [
       "1236571.2760822831"
      ]
     },
     "execution_count": 57,
     "metadata": {},
     "output_type": "execute_result"
    }
   ],
   "source": [
    "def compute_cost(A, Z, y, w):\n",
    "    #Double check calculations manually to ensure no mistakes were made.\n",
    "    m = A.shape[0]\n",
    "\n",
    "    cost = 0.0  \n",
    "    for i in range(m):\n",
    "        # Create the vector of the x values in the equation.\n",
    "        vec_x = np.array( ( A[i], A[i]**(2/3), (Z[i]*(Z[i]-1))/(A[i]**(1/3)), ((A[i]-2*Z[i])**2)/(A[i]**2), 1/(A[i]**(1/2)) ))\n",
    "        #Logic for the pairing terms\n",
    "        if Z[i] % 2 == 0 and (A[i]-Z[i]) % 2 ==0:\n",
    "            vec_x[-1] = vec_x[-1]\n",
    "        elif Z[i] % 2 != 0 and (A[i]-Z[i]) % 2 !=0:\n",
    "            vec_x[-1] = -1*vec_x[-1]\n",
    "        else:\n",
    "            vec_x[-1] = 0\n",
    "        # print(vec_x[-1])\n",
    "        # Calculates the actual function using the dot product.\n",
    "        # must code calculations manually instead of using dot product.\n",
    "        f = vec_x[0] * w[0] - vec_x[1] * w[1] - vec_x[2] * w[2] - vec_x[3] * w[3]\n",
    "        # f = np.dot(vec_x, w)\n",
    "        #computes cost\n",
    "        cost = np.longdouble(cost + np.power(f-y[i],2))\n",
    "    return cost/(2*m)\n",
    "compute_cost(train_A, train_Z, train_y, w_init)\n"
   ]
  },
  {
   "cell_type": "code",
   "execution_count": 58,
   "metadata": {},
   "outputs": [
    {
     "data": {
      "text/plain": [
       "858964.4859171127"
      ]
     },
     "execution_count": 58,
     "metadata": {},
     "output_type": "execute_result"
    }
   ],
   "source": [
    "def compute_gradient(A, Z, y, w_init):\n",
    "    m = A.shape[0]\n",
    "    gradient = 0.0  \n",
    "    for i in range(m):\n",
    "        # print(train_A[i], train_Z[i], train_y[i])\n",
    "        # Create the vector of the x values in the equation.\n",
    "        vec_x = np.array( ( A[i], A[i]**(2/3), (Z[i]*(Z[i]-1))/(A[i]**(1/3)), ((A[i]-2*Z[i])**2)/(A[i]**2), 1/(A[i]**(1/2)) ))\n",
    "        #Logic for the pairing terms\n",
    "        if Z[i] % 2 == 0 and (A[i]-Z[i]) % 2 ==0:\n",
    "            vec_x[-1] = vec_x[-1]\n",
    "        elif Z[i] % 2 != 0 and (A[i]-Z[i]) % 2 !=0:\n",
    "            vec_x[-1] = -1*vec_x[-1]\n",
    "        else:\n",
    "            vec_x[-1] = 0\n",
    "        # print(vec_x[-1])\n",
    "        # print(vec_x)\n",
    "        # must code calculations manually instead of using dot product.\n",
    "        f = (vec_x[0] * w_init[0] - vec_x[1] * w_init[1] - vec_x[2] * w_init[2] - vec_x[3] * w_init[3] + w_init[4]*vec_x[4])\n",
    "        # print(\"f:\", f)\n",
    "        # part of the derivative\n",
    "        tmp = (vec_x[0] - vec_x[1] - vec_x[2] - vec_x[3] + vec_x[4])\n",
    "        # print(tmp)\n",
    "        #computes gradient = (f-y[i])*f'\n",
    "        gradient = gradient + ((f-y[i]) * tmp)\n",
    "        #gradient/m gives us the derivative\n",
    "    return gradient/(m)\n",
    "#Do manual calculations to determine if the code is running correctly. Seems about right\n",
    "compute_gradient(train_A, train_Z, train_y, w_init)\n",
    "#698783.5692979245\n",
    "#s"
   ]
  },
  {
   "cell_type": "code",
   "execution_count": 59,
   "metadata": {},
   "outputs": [
    {
     "name": "stdout",
     "output_type": "stream",
     "text": [
      "\n"
     ]
    }
   ],
   "source": [
    "def BE (W):\n",
    "    A = train_A\n",
    "    Z = train_Z\n",
    "    y = train_y\n",
    "    m = A.shape[0]\n",
    "    f = 0\n",
    "    BE = []\n",
    "    for i in range(m):        \n",
    "        vec_x = np.array( ( A[i], A[i]**(2/3), (Z[i]*(Z[i]-1))/(A[i]**(1/3)), ((A[i]-2*Z[i])**2)/(A[i]**2), 1/(A[i]**(1/2)) ))\n",
    "        if Z[i] % 2 == 0 and (A[i]-Z[i]) % 2 ==0:\n",
    "            vec_x[-1] = vec_x[-1]\n",
    "        elif Z[i] % 2 != 0 and (A[i]-Z[i]) % 2 !=0:\n",
    "            vec_x[-1] = -1*vec_x[-1]\n",
    "        else:\n",
    "            vec_x[-1] = 0\n",
    "        f = (vec_x[0] * W[0] - vec_x[1] * W[1] - vec_x[2] * W[2] - vec_x[3] * W[3] + W[4]*vec_x[4])\n",
    "        BE.append(f/A[i])\n",
    "    return BE\n",
    "w = [15.75, 17.8, 0.711, 23.7,11.18  ]\n",
    "c = BE(w)\n",
    "print()\n"
   ]
  },
  {
   "cell_type": "code",
   "execution_count": 60,
   "metadata": {},
   "outputs": [
    {
     "data": {
      "image/png": "[encoded data removed]",
      "text/plain": [
       "<Figure size 640x480 with 1 Axes>"
      ]
     },
     "metadata": {},
     "output_type": "display_data"
    }
   ],
   "source": [
    "plt.scatter(train_A, c, color=\"red\")\n",
    "plt.show()"
   ]
  },
  {
   "cell_type": "code",
   "execution_count": 61,
   "metadata": {},
   "outputs": [],
   "source": [
    "def gradient_descent(A, Z, y, w_in, cost_function, gradient_function,alpha):\n",
    "    w = copy.deepcopy(w_in)\n",
    "    i = 0\n",
    "    cost = cost_function(A, Z, y, w)\n",
    "    \n",
    "    return cost"
   ]
  },
  {
   "cell_type": "code",
   "execution_count": 62,
   "metadata": {},
   "outputs": [
    {
     "data": {
      "text/plain": [
       "1236571.2760822831"
      ]
     },
     "execution_count": 62,
     "metadata": {},
     "output_type": "execute_result"
    }
   ],
   "source": [
    "alpha = 1.0e-4\n",
    "gradient_descent(train_A, train_Z, train_y, w_init, compute_cost, compute_gradient, 1)"
   ]
  }
 ],
 "metadata": {
  "kernelspec": {
   "display_name": "Python 3",
   "language": "python",
   "name": "python3"
  },
  "language_info": {
   "codemirror_mode": {
    "name": "ipython",
    "version": 3
   },
   "file_extension": ".py",
   "mimetype": "text/x-python",
   "name": "python",
   "nbconvert_exporter": "python",
   "pygments_lexer": "ipython3",
   "version": "3.10.6"
  }
 },
 "nbformat": 4,
 "nbformat_minor": 2
}
